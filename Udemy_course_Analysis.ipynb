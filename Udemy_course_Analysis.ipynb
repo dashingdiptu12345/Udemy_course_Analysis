{
 "cells": [
  {
   "cell_type": "code",
   "execution_count": 1,
   "metadata": {},
   "outputs": [],
   "source": [
    "import pandas as pd\n",
    "import numpy as np\n",
    "import matplotlib.pyplot as plt\n",
    "import seaborn as sns"
   ]
  },
  {
   "cell_type": "markdown",
   "metadata": {},
   "source": [
    "**Load Data**"
   ]
  },
  {
   "cell_type": "code",
   "execution_count": 2,
   "metadata": {},
   "outputs": [],
   "source": [
    "df=pd.read_csv(\"udemy_courses.csv\")"
   ]
  },
  {
   "cell_type": "markdown",
   "metadata": {},
   "source": [
    "**Basic data exploration**"
   ]
  },
  {
   "cell_type": "code",
   "execution_count": 3,
   "metadata": {},
   "outputs": [
    {
     "data": {
      "text/html": [
       "<div>\n",
       "<style scoped>\n",
       "    .dataframe tbody tr th:only-of-type {\n",
       "        vertical-align: middle;\n",
       "    }\n",
       "\n",
       "    .dataframe tbody tr th {\n",
       "        vertical-align: top;\n",
       "    }\n",
       "\n",
       "    .dataframe thead th {\n",
       "        text-align: right;\n",
       "    }\n",
       "</style>\n",
       "<table border=\"1\" class=\"dataframe\">\n",
       "  <thead>\n",
       "    <tr style=\"text-align: right;\">\n",
       "      <th></th>\n",
       "      <th>course_id</th>\n",
       "      <th>course_title</th>\n",
       "      <th>url</th>\n",
       "      <th>is_paid</th>\n",
       "      <th>price</th>\n",
       "      <th>num_subscribers</th>\n",
       "      <th>num_reviews</th>\n",
       "      <th>num_lectures</th>\n",
       "      <th>level</th>\n",
       "      <th>content_duration</th>\n",
       "      <th>published_timestamp</th>\n",
       "      <th>subject</th>\n",
       "    </tr>\n",
       "  </thead>\n",
       "  <tbody>\n",
       "    <tr>\n",
       "      <th>0</th>\n",
       "      <td>1070968</td>\n",
       "      <td>Ultimate Investment Banking Course</td>\n",
       "      <td>https://www.udemy.com/ultimate-investment-bank...</td>\n",
       "      <td>True</td>\n",
       "      <td>200</td>\n",
       "      <td>2147</td>\n",
       "      <td>23</td>\n",
       "      <td>51</td>\n",
       "      <td>All Levels</td>\n",
       "      <td>1.5</td>\n",
       "      <td>2017-01-18T20:58:58Z</td>\n",
       "      <td>Business Finance</td>\n",
       "    </tr>\n",
       "    <tr>\n",
       "      <th>1</th>\n",
       "      <td>1113822</td>\n",
       "      <td>Complete GST Course &amp; Certification - Grow You...</td>\n",
       "      <td>https://www.udemy.com/goods-and-services-tax/</td>\n",
       "      <td>True</td>\n",
       "      <td>75</td>\n",
       "      <td>2792</td>\n",
       "      <td>923</td>\n",
       "      <td>274</td>\n",
       "      <td>All Levels</td>\n",
       "      <td>39.0</td>\n",
       "      <td>2017-03-09T16:34:20Z</td>\n",
       "      <td>Business Finance</td>\n",
       "    </tr>\n",
       "    <tr>\n",
       "      <th>2</th>\n",
       "      <td>1006314</td>\n",
       "      <td>Financial Modeling for Business Analysts and C...</td>\n",
       "      <td>https://www.udemy.com/financial-modeling-for-b...</td>\n",
       "      <td>True</td>\n",
       "      <td>45</td>\n",
       "      <td>2174</td>\n",
       "      <td>74</td>\n",
       "      <td>51</td>\n",
       "      <td>Intermediate Level</td>\n",
       "      <td>2.5</td>\n",
       "      <td>2016-12-19T19:26:30Z</td>\n",
       "      <td>Business Finance</td>\n",
       "    </tr>\n",
       "    <tr>\n",
       "      <th>3</th>\n",
       "      <td>1210588</td>\n",
       "      <td>Beginner to Pro - Financial Analysis in Excel ...</td>\n",
       "      <td>https://www.udemy.com/complete-excel-finance-c...</td>\n",
       "      <td>True</td>\n",
       "      <td>95</td>\n",
       "      <td>2451</td>\n",
       "      <td>11</td>\n",
       "      <td>36</td>\n",
       "      <td>All Levels</td>\n",
       "      <td>3.0</td>\n",
       "      <td>2017-05-30T20:07:24Z</td>\n",
       "      <td>Business Finance</td>\n",
       "    </tr>\n",
       "    <tr>\n",
       "      <th>4</th>\n",
       "      <td>1011058</td>\n",
       "      <td>How To Maximize Your Profits Trading Options</td>\n",
       "      <td>https://www.udemy.com/how-to-maximize-your-pro...</td>\n",
       "      <td>True</td>\n",
       "      <td>200</td>\n",
       "      <td>1276</td>\n",
       "      <td>45</td>\n",
       "      <td>26</td>\n",
       "      <td>Intermediate Level</td>\n",
       "      <td>2.0</td>\n",
       "      <td>2016-12-13T14:57:18Z</td>\n",
       "      <td>Business Finance</td>\n",
       "    </tr>\n",
       "  </tbody>\n",
       "</table>\n",
       "</div>"
      ],
      "text/plain": [
       "   course_id                                       course_title  \\\n",
       "0    1070968                 Ultimate Investment Banking Course   \n",
       "1    1113822  Complete GST Course & Certification - Grow You...   \n",
       "2    1006314  Financial Modeling for Business Analysts and C...   \n",
       "3    1210588  Beginner to Pro - Financial Analysis in Excel ...   \n",
       "4    1011058       How To Maximize Your Profits Trading Options   \n",
       "\n",
       "                                                 url  is_paid  price  \\\n",
       "0  https://www.udemy.com/ultimate-investment-bank...     True    200   \n",
       "1      https://www.udemy.com/goods-and-services-tax/     True     75   \n",
       "2  https://www.udemy.com/financial-modeling-for-b...     True     45   \n",
       "3  https://www.udemy.com/complete-excel-finance-c...     True     95   \n",
       "4  https://www.udemy.com/how-to-maximize-your-pro...     True    200   \n",
       "\n",
       "   num_subscribers  num_reviews  num_lectures               level  \\\n",
       "0             2147           23            51          All Levels   \n",
       "1             2792          923           274          All Levels   \n",
       "2             2174           74            51  Intermediate Level   \n",
       "3             2451           11            36          All Levels   \n",
       "4             1276           45            26  Intermediate Level   \n",
       "\n",
       "   content_duration   published_timestamp           subject  \n",
       "0               1.5  2017-01-18T20:58:58Z  Business Finance  \n",
       "1              39.0  2017-03-09T16:34:20Z  Business Finance  \n",
       "2               2.5  2016-12-19T19:26:30Z  Business Finance  \n",
       "3               3.0  2017-05-30T20:07:24Z  Business Finance  \n",
       "4               2.0  2016-12-13T14:57:18Z  Business Finance  "
      ]
     },
     "execution_count": 3,
     "metadata": {},
     "output_type": "execute_result"
    }
   ],
   "source": [
    "df.head()"
   ]
  },
  {
   "cell_type": "code",
   "execution_count": 4,
   "metadata": {},
   "outputs": [
    {
     "data": {
      "text/plain": [
       "All Levels            1929\n",
       "Beginner Level        1270\n",
       "Intermediate Level     421\n",
       "Expert Level            58\n",
       "Name: level, dtype: int64"
      ]
     },
     "execution_count": 4,
     "metadata": {},
     "output_type": "execute_result"
    }
   ],
   "source": [
    "df.level.value_counts()"
   ]
  },
  {
   "cell_type": "code",
   "execution_count": 5,
   "metadata": {},
   "outputs": [
    {
     "data": {
      "text/plain": [
       "All Levels            1929\n",
       "Beginner Level        1270\n",
       "Intermediate Level     421\n",
       "Expert Level            58\n",
       "Name: level, dtype: int64"
      ]
     },
     "execution_count": 5,
     "metadata": {},
     "output_type": "execute_result"
    }
   ],
   "source": [
    "##value counts of all level of course\n",
    "df.level.value_counts()"
   ]
  },
  {
   "cell_type": "markdown",
   "metadata": {},
   "source": [
    "**Basic Data Cleaning**"
   ]
  },
  {
   "cell_type": "code",
   "execution_count": 6,
   "metadata": {},
   "outputs": [
    {
     "data": {
      "text/html": [
       "<div>\n",
       "<style scoped>\n",
       "    .dataframe tbody tr th:only-of-type {\n",
       "        vertical-align: middle;\n",
       "    }\n",
       "\n",
       "    .dataframe tbody tr th {\n",
       "        vertical-align: top;\n",
       "    }\n",
       "\n",
       "    .dataframe thead th {\n",
       "        text-align: right;\n",
       "    }\n",
       "</style>\n",
       "<table border=\"1\" class=\"dataframe\">\n",
       "  <thead>\n",
       "    <tr style=\"text-align: right;\">\n",
       "      <th></th>\n",
       "      <th>course_id</th>\n",
       "      <th>course_title</th>\n",
       "      <th>url</th>\n",
       "      <th>is_paid</th>\n",
       "      <th>price</th>\n",
       "      <th>num_subscribers</th>\n",
       "      <th>num_reviews</th>\n",
       "      <th>num_lectures</th>\n",
       "      <th>level</th>\n",
       "      <th>content_duration</th>\n",
       "      <th>published_timestamp</th>\n",
       "      <th>subject</th>\n",
       "    </tr>\n",
       "  </thead>\n",
       "  <tbody>\n",
       "    <tr>\n",
       "      <th>0</th>\n",
       "      <td>1070968</td>\n",
       "      <td>Ultimate Investment Banking Course</td>\n",
       "      <td>https://www.udemy.com/ultimate-investment-bank...</td>\n",
       "      <td>1</td>\n",
       "      <td>200</td>\n",
       "      <td>2147</td>\n",
       "      <td>23</td>\n",
       "      <td>51</td>\n",
       "      <td>All Levels</td>\n",
       "      <td>1.5</td>\n",
       "      <td>2017-01-18T20:58:58Z</td>\n",
       "      <td>Business Finance</td>\n",
       "    </tr>\n",
       "    <tr>\n",
       "      <th>1</th>\n",
       "      <td>1113822</td>\n",
       "      <td>Complete GST Course &amp; Certification - Grow You...</td>\n",
       "      <td>https://www.udemy.com/goods-and-services-tax/</td>\n",
       "      <td>1</td>\n",
       "      <td>75</td>\n",
       "      <td>2792</td>\n",
       "      <td>923</td>\n",
       "      <td>274</td>\n",
       "      <td>All Levels</td>\n",
       "      <td>39.0</td>\n",
       "      <td>2017-03-09T16:34:20Z</td>\n",
       "      <td>Business Finance</td>\n",
       "    </tr>\n",
       "    <tr>\n",
       "      <th>2</th>\n",
       "      <td>1006314</td>\n",
       "      <td>Financial Modeling for Business Analysts and C...</td>\n",
       "      <td>https://www.udemy.com/financial-modeling-for-b...</td>\n",
       "      <td>1</td>\n",
       "      <td>45</td>\n",
       "      <td>2174</td>\n",
       "      <td>74</td>\n",
       "      <td>51</td>\n",
       "      <td>Intermediate Level</td>\n",
       "      <td>2.5</td>\n",
       "      <td>2016-12-19T19:26:30Z</td>\n",
       "      <td>Business Finance</td>\n",
       "    </tr>\n",
       "    <tr>\n",
       "      <th>3</th>\n",
       "      <td>1210588</td>\n",
       "      <td>Beginner to Pro - Financial Analysis in Excel ...</td>\n",
       "      <td>https://www.udemy.com/complete-excel-finance-c...</td>\n",
       "      <td>1</td>\n",
       "      <td>95</td>\n",
       "      <td>2451</td>\n",
       "      <td>11</td>\n",
       "      <td>36</td>\n",
       "      <td>All Levels</td>\n",
       "      <td>3.0</td>\n",
       "      <td>2017-05-30T20:07:24Z</td>\n",
       "      <td>Business Finance</td>\n",
       "    </tr>\n",
       "    <tr>\n",
       "      <th>4</th>\n",
       "      <td>1011058</td>\n",
       "      <td>How To Maximize Your Profits Trading Options</td>\n",
       "      <td>https://www.udemy.com/how-to-maximize-your-pro...</td>\n",
       "      <td>1</td>\n",
       "      <td>200</td>\n",
       "      <td>1276</td>\n",
       "      <td>45</td>\n",
       "      <td>26</td>\n",
       "      <td>Intermediate Level</td>\n",
       "      <td>2.0</td>\n",
       "      <td>2016-12-13T14:57:18Z</td>\n",
       "      <td>Business Finance</td>\n",
       "    </tr>\n",
       "  </tbody>\n",
       "</table>\n",
       "</div>"
      ],
      "text/plain": [
       "   course_id                                       course_title  \\\n",
       "0    1070968                 Ultimate Investment Banking Course   \n",
       "1    1113822  Complete GST Course & Certification - Grow You...   \n",
       "2    1006314  Financial Modeling for Business Analysts and C...   \n",
       "3    1210588  Beginner to Pro - Financial Analysis in Excel ...   \n",
       "4    1011058       How To Maximize Your Profits Trading Options   \n",
       "\n",
       "                                                 url  is_paid  price  \\\n",
       "0  https://www.udemy.com/ultimate-investment-bank...        1    200   \n",
       "1      https://www.udemy.com/goods-and-services-tax/        1     75   \n",
       "2  https://www.udemy.com/financial-modeling-for-b...        1     45   \n",
       "3  https://www.udemy.com/complete-excel-finance-c...        1     95   \n",
       "4  https://www.udemy.com/how-to-maximize-your-pro...        1    200   \n",
       "\n",
       "   num_subscribers  num_reviews  num_lectures               level  \\\n",
       "0             2147           23            51          All Levels   \n",
       "1             2792          923           274          All Levels   \n",
       "2             2174           74            51  Intermediate Level   \n",
       "3             2451           11            36          All Levels   \n",
       "4             1276           45            26  Intermediate Level   \n",
       "\n",
       "   content_duration   published_timestamp           subject  \n",
       "0               1.5  2017-01-18T20:58:58Z  Business Finance  \n",
       "1              39.0  2017-03-09T16:34:20Z  Business Finance  \n",
       "2               2.5  2016-12-19T19:26:30Z  Business Finance  \n",
       "3               3.0  2017-05-30T20:07:24Z  Business Finance  \n",
       "4               2.0  2016-12-13T14:57:18Z  Business Finance  "
      ]
     },
     "execution_count": 6,
     "metadata": {},
     "output_type": "execute_result"
    }
   ],
   "source": [
    "##Use LabelEncoder for encoading of is_paid column\n",
    "from sklearn.preprocessing import LabelEncoder\n",
    "labelencoder = LabelEncoder()\n",
    "df['is_paid'] = labelencoder.fit_transform(df['is_paid'])\n",
    "df.head()"
   ]
  },
  {
   "cell_type": "code",
   "execution_count": 7,
   "metadata": {},
   "outputs": [
    {
     "data": {
      "text/html": [
       "<div>\n",
       "<style scoped>\n",
       "    .dataframe tbody tr th:only-of-type {\n",
       "        vertical-align: middle;\n",
       "    }\n",
       "\n",
       "    .dataframe tbody tr th {\n",
       "        vertical-align: top;\n",
       "    }\n",
       "\n",
       "    .dataframe thead th {\n",
       "        text-align: right;\n",
       "    }\n",
       "</style>\n",
       "<table border=\"1\" class=\"dataframe\">\n",
       "  <thead>\n",
       "    <tr style=\"text-align: right;\">\n",
       "      <th></th>\n",
       "      <th>course_id</th>\n",
       "      <th>course_title</th>\n",
       "      <th>url</th>\n",
       "      <th>is_paid</th>\n",
       "      <th>price</th>\n",
       "      <th>num_subscribers</th>\n",
       "      <th>num_reviews</th>\n",
       "      <th>num_lectures</th>\n",
       "      <th>level</th>\n",
       "      <th>content_duration</th>\n",
       "      <th>published_timestamp</th>\n",
       "      <th>subject</th>\n",
       "    </tr>\n",
       "  </thead>\n",
       "  <tbody>\n",
       "    <tr>\n",
       "      <th>0</th>\n",
       "      <td>1070968</td>\n",
       "      <td>Ultimate Investment Banking Course</td>\n",
       "      <td>https://www.udemy.com/ultimate-investment-bank...</td>\n",
       "      <td>1</td>\n",
       "      <td>200</td>\n",
       "      <td>2147</td>\n",
       "      <td>23</td>\n",
       "      <td>51</td>\n",
       "      <td>0</td>\n",
       "      <td>1.5</td>\n",
       "      <td>2017-01-18T20:58:58Z</td>\n",
       "      <td>Business Finance</td>\n",
       "    </tr>\n",
       "    <tr>\n",
       "      <th>1</th>\n",
       "      <td>1113822</td>\n",
       "      <td>Complete GST Course &amp; Certification - Grow You...</td>\n",
       "      <td>https://www.udemy.com/goods-and-services-tax/</td>\n",
       "      <td>1</td>\n",
       "      <td>75</td>\n",
       "      <td>2792</td>\n",
       "      <td>923</td>\n",
       "      <td>274</td>\n",
       "      <td>0</td>\n",
       "      <td>39.0</td>\n",
       "      <td>2017-03-09T16:34:20Z</td>\n",
       "      <td>Business Finance</td>\n",
       "    </tr>\n",
       "    <tr>\n",
       "      <th>2</th>\n",
       "      <td>1006314</td>\n",
       "      <td>Financial Modeling for Business Analysts and C...</td>\n",
       "      <td>https://www.udemy.com/financial-modeling-for-b...</td>\n",
       "      <td>1</td>\n",
       "      <td>45</td>\n",
       "      <td>2174</td>\n",
       "      <td>74</td>\n",
       "      <td>51</td>\n",
       "      <td>2</td>\n",
       "      <td>2.5</td>\n",
       "      <td>2016-12-19T19:26:30Z</td>\n",
       "      <td>Business Finance</td>\n",
       "    </tr>\n",
       "    <tr>\n",
       "      <th>3</th>\n",
       "      <td>1210588</td>\n",
       "      <td>Beginner to Pro - Financial Analysis in Excel ...</td>\n",
       "      <td>https://www.udemy.com/complete-excel-finance-c...</td>\n",
       "      <td>1</td>\n",
       "      <td>95</td>\n",
       "      <td>2451</td>\n",
       "      <td>11</td>\n",
       "      <td>36</td>\n",
       "      <td>0</td>\n",
       "      <td>3.0</td>\n",
       "      <td>2017-05-30T20:07:24Z</td>\n",
       "      <td>Business Finance</td>\n",
       "    </tr>\n",
       "    <tr>\n",
       "      <th>4</th>\n",
       "      <td>1011058</td>\n",
       "      <td>How To Maximize Your Profits Trading Options</td>\n",
       "      <td>https://www.udemy.com/how-to-maximize-your-pro...</td>\n",
       "      <td>1</td>\n",
       "      <td>200</td>\n",
       "      <td>1276</td>\n",
       "      <td>45</td>\n",
       "      <td>26</td>\n",
       "      <td>2</td>\n",
       "      <td>2.0</td>\n",
       "      <td>2016-12-13T14:57:18Z</td>\n",
       "      <td>Business Finance</td>\n",
       "    </tr>\n",
       "  </tbody>\n",
       "</table>\n",
       "</div>"
      ],
      "text/plain": [
       "   course_id                                       course_title  \\\n",
       "0    1070968                 Ultimate Investment Banking Course   \n",
       "1    1113822  Complete GST Course & Certification - Grow You...   \n",
       "2    1006314  Financial Modeling for Business Analysts and C...   \n",
       "3    1210588  Beginner to Pro - Financial Analysis in Excel ...   \n",
       "4    1011058       How To Maximize Your Profits Trading Options   \n",
       "\n",
       "                                                 url  is_paid  price  \\\n",
       "0  https://www.udemy.com/ultimate-investment-bank...        1    200   \n",
       "1      https://www.udemy.com/goods-and-services-tax/        1     75   \n",
       "2  https://www.udemy.com/financial-modeling-for-b...        1     45   \n",
       "3  https://www.udemy.com/complete-excel-finance-c...        1     95   \n",
       "4  https://www.udemy.com/how-to-maximize-your-pro...        1    200   \n",
       "\n",
       "   num_subscribers  num_reviews  num_lectures  level  content_duration  \\\n",
       "0             2147           23            51      0               1.5   \n",
       "1             2792          923           274      0              39.0   \n",
       "2             2174           74            51      2               2.5   \n",
       "3             2451           11            36      0               3.0   \n",
       "4             1276           45            26      2               2.0   \n",
       "\n",
       "    published_timestamp           subject  \n",
       "0  2017-01-18T20:58:58Z  Business Finance  \n",
       "1  2017-03-09T16:34:20Z  Business Finance  \n",
       "2  2016-12-19T19:26:30Z  Business Finance  \n",
       "3  2017-05-30T20:07:24Z  Business Finance  \n",
       "4  2016-12-13T14:57:18Z  Business Finance  "
      ]
     },
     "execution_count": 7,
     "metadata": {},
     "output_type": "execute_result"
    }
   ],
   "source": [
    "##Custom LabelEncoder for encoading level column\n",
    "cleanup_nums = {\"level\":     {\"All Levels\": 0, \"Beginner Level\": 1,\"Intermediate Level\":2,\n",
    "                             \"Expert Level\":3}}\n",
    "df = df.replace(cleanup_nums)\n",
    "df.head()"
   ]
  },
  {
   "cell_type": "code",
   "execution_count": 8,
   "metadata": {},
   "outputs": [
    {
     "data": {
      "text/plain": [
       "course_id              0\n",
       "course_title           0\n",
       "url                    0\n",
       "is_paid                0\n",
       "price                  0\n",
       "num_subscribers        0\n",
       "num_reviews            0\n",
       "num_lectures           0\n",
       "level                  0\n",
       "content_duration       0\n",
       "published_timestamp    0\n",
       "subject                0\n",
       "dtype: int64"
      ]
     },
     "execution_count": 8,
     "metadata": {},
     "output_type": "execute_result"
    }
   ],
   "source": [
    "df.isnull().sum()\n",
    "##no null value in the data set"
   ]
  },
  {
   "cell_type": "code",
   "execution_count": 9,
   "metadata": {},
   "outputs": [
    {
     "data": {
      "text/plain": [
       "course_id                int64\n",
       "course_title            object\n",
       "url                     object\n",
       "is_paid                  int64\n",
       "price                    int64\n",
       "num_subscribers          int64\n",
       "num_reviews              int64\n",
       "num_lectures             int64\n",
       "level                    int64\n",
       "content_duration       float64\n",
       "published_timestamp     object\n",
       "subject                 object\n",
       "dtype: object"
      ]
     },
     "execution_count": 9,
     "metadata": {},
     "output_type": "execute_result"
    }
   ],
   "source": [
    "##showing datatypes of all column\n",
    "df.dtypes"
   ]
  },
  {
   "cell_type": "code",
   "execution_count": 10,
   "metadata": {},
   "outputs": [
    {
     "data": {
      "text/plain": [
       "1    3368\n",
       "0     310\n",
       "Name: is_paid, dtype: int64"
      ]
     },
     "execution_count": 10,
     "metadata": {},
     "output_type": "execute_result"
    }
   ],
   "source": [
    "df.is_paid.value_counts()"
   ]
  },
  {
   "cell_type": "code",
   "execution_count": 11,
   "metadata": {},
   "outputs": [
    {
     "data": {
      "text/plain": [
       "Web Development        1200\n",
       "Business Finance       1195\n",
       "Musical Instruments     680\n",
       "Graphic Design          603\n",
       "Name: subject, dtype: int64"
      ]
     },
     "execution_count": 11,
     "metadata": {},
     "output_type": "execute_result"
    }
   ],
   "source": [
    "df.subject.value_counts()"
   ]
  },
  {
   "cell_type": "code",
   "execution_count": 12,
   "metadata": {},
   "outputs": [
    {
     "data": {
      "text/plain": [
       "0    1929\n",
       "1    1270\n",
       "2     421\n",
       "3      58\n",
       "Name: level, dtype: int64"
      ]
     },
     "execution_count": 12,
     "metadata": {},
     "output_type": "execute_result"
    }
   ],
   "source": [
    "df.level.value_counts()"
   ]
  },
  {
   "cell_type": "markdown",
   "metadata": {},
   "source": [
    "**All Tasks And Answers**"
   ]
  },
  {
   "cell_type": "code",
   "execution_count": 13,
   "metadata": {},
   "outputs": [],
   "source": [
    "## creating a new column name per_course_total_revenue\n",
    "df[\"per_course_total_revenue\"]=df[\"price\"]*df[\"num_subscribers\"]"
   ]
  },
  {
   "cell_type": "code",
   "execution_count": 14,
   "metadata": {},
   "outputs": [
    {
     "data": {
      "text/html": [
       "<div>\n",
       "<style scoped>\n",
       "    .dataframe tbody tr th:only-of-type {\n",
       "        vertical-align: middle;\n",
       "    }\n",
       "\n",
       "    .dataframe tbody tr th {\n",
       "        vertical-align: top;\n",
       "    }\n",
       "\n",
       "    .dataframe thead th {\n",
       "        text-align: right;\n",
       "    }\n",
       "</style>\n",
       "<table border=\"1\" class=\"dataframe\">\n",
       "  <thead>\n",
       "    <tr style=\"text-align: right;\">\n",
       "      <th></th>\n",
       "      <th>course_id</th>\n",
       "      <th>course_title</th>\n",
       "      <th>url</th>\n",
       "      <th>is_paid</th>\n",
       "      <th>price</th>\n",
       "      <th>num_subscribers</th>\n",
       "      <th>num_reviews</th>\n",
       "      <th>num_lectures</th>\n",
       "      <th>level</th>\n",
       "      <th>content_duration</th>\n",
       "      <th>published_timestamp</th>\n",
       "      <th>subject</th>\n",
       "      <th>per_course_total_revenue</th>\n",
       "    </tr>\n",
       "  </thead>\n",
       "  <tbody>\n",
       "    <tr>\n",
       "      <th>0</th>\n",
       "      <td>1070968</td>\n",
       "      <td>Ultimate Investment Banking Course</td>\n",
       "      <td>https://www.udemy.com/ultimate-investment-bank...</td>\n",
       "      <td>1</td>\n",
       "      <td>200</td>\n",
       "      <td>2147</td>\n",
       "      <td>23</td>\n",
       "      <td>51</td>\n",
       "      <td>0</td>\n",
       "      <td>1.5</td>\n",
       "      <td>2017-01-18T20:58:58Z</td>\n",
       "      <td>Business Finance</td>\n",
       "      <td>429400</td>\n",
       "    </tr>\n",
       "    <tr>\n",
       "      <th>1</th>\n",
       "      <td>1113822</td>\n",
       "      <td>Complete GST Course &amp; Certification - Grow You...</td>\n",
       "      <td>https://www.udemy.com/goods-and-services-tax/</td>\n",
       "      <td>1</td>\n",
       "      <td>75</td>\n",
       "      <td>2792</td>\n",
       "      <td>923</td>\n",
       "      <td>274</td>\n",
       "      <td>0</td>\n",
       "      <td>39.0</td>\n",
       "      <td>2017-03-09T16:34:20Z</td>\n",
       "      <td>Business Finance</td>\n",
       "      <td>209400</td>\n",
       "    </tr>\n",
       "    <tr>\n",
       "      <th>2</th>\n",
       "      <td>1006314</td>\n",
       "      <td>Financial Modeling for Business Analysts and C...</td>\n",
       "      <td>https://www.udemy.com/financial-modeling-for-b...</td>\n",
       "      <td>1</td>\n",
       "      <td>45</td>\n",
       "      <td>2174</td>\n",
       "      <td>74</td>\n",
       "      <td>51</td>\n",
       "      <td>2</td>\n",
       "      <td>2.5</td>\n",
       "      <td>2016-12-19T19:26:30Z</td>\n",
       "      <td>Business Finance</td>\n",
       "      <td>97830</td>\n",
       "    </tr>\n",
       "    <tr>\n",
       "      <th>3</th>\n",
       "      <td>1210588</td>\n",
       "      <td>Beginner to Pro - Financial Analysis in Excel ...</td>\n",
       "      <td>https://www.udemy.com/complete-excel-finance-c...</td>\n",
       "      <td>1</td>\n",
       "      <td>95</td>\n",
       "      <td>2451</td>\n",
       "      <td>11</td>\n",
       "      <td>36</td>\n",
       "      <td>0</td>\n",
       "      <td>3.0</td>\n",
       "      <td>2017-05-30T20:07:24Z</td>\n",
       "      <td>Business Finance</td>\n",
       "      <td>232845</td>\n",
       "    </tr>\n",
       "    <tr>\n",
       "      <th>4</th>\n",
       "      <td>1011058</td>\n",
       "      <td>How To Maximize Your Profits Trading Options</td>\n",
       "      <td>https://www.udemy.com/how-to-maximize-your-pro...</td>\n",
       "      <td>1</td>\n",
       "      <td>200</td>\n",
       "      <td>1276</td>\n",
       "      <td>45</td>\n",
       "      <td>26</td>\n",
       "      <td>2</td>\n",
       "      <td>2.0</td>\n",
       "      <td>2016-12-13T14:57:18Z</td>\n",
       "      <td>Business Finance</td>\n",
       "      <td>255200</td>\n",
       "    </tr>\n",
       "  </tbody>\n",
       "</table>\n",
       "</div>"
      ],
      "text/plain": [
       "   course_id                                       course_title  \\\n",
       "0    1070968                 Ultimate Investment Banking Course   \n",
       "1    1113822  Complete GST Course & Certification - Grow You...   \n",
       "2    1006314  Financial Modeling for Business Analysts and C...   \n",
       "3    1210588  Beginner to Pro - Financial Analysis in Excel ...   \n",
       "4    1011058       How To Maximize Your Profits Trading Options   \n",
       "\n",
       "                                                 url  is_paid  price  \\\n",
       "0  https://www.udemy.com/ultimate-investment-bank...        1    200   \n",
       "1      https://www.udemy.com/goods-and-services-tax/        1     75   \n",
       "2  https://www.udemy.com/financial-modeling-for-b...        1     45   \n",
       "3  https://www.udemy.com/complete-excel-finance-c...        1     95   \n",
       "4  https://www.udemy.com/how-to-maximize-your-pro...        1    200   \n",
       "\n",
       "   num_subscribers  num_reviews  num_lectures  level  content_duration  \\\n",
       "0             2147           23            51      0               1.5   \n",
       "1             2792          923           274      0              39.0   \n",
       "2             2174           74            51      2               2.5   \n",
       "3             2451           11            36      0               3.0   \n",
       "4             1276           45            26      2               2.0   \n",
       "\n",
       "    published_timestamp           subject  per_course_total_revenue  \n",
       "0  2017-01-18T20:58:58Z  Business Finance                    429400  \n",
       "1  2017-03-09T16:34:20Z  Business Finance                    209400  \n",
       "2  2016-12-19T19:26:30Z  Business Finance                     97830  \n",
       "3  2017-05-30T20:07:24Z  Business Finance                    232845  \n",
       "4  2016-12-13T14:57:18Z  Business Finance                    255200  "
      ]
     },
     "execution_count": 14,
     "metadata": {},
     "output_type": "execute_result"
    }
   ],
   "source": [
    "df.head()"
   ]
  },
  {
   "cell_type": "code",
   "execution_count": 15,
   "metadata": {},
   "outputs": [
    {
     "data": {
      "text/plain": [
       "course_id                                                              625204\n",
       "course_title                                       The Web Developer Bootcamp\n",
       "url                         https://www.udemy.com/the-web-developer-bootcamp/\n",
       "is_paid                                                                     1\n",
       "price                                                                     200\n",
       "num_subscribers                                                        121584\n",
       "num_reviews                                                             27445\n",
       "num_lectures                                                              342\n",
       "level                                                                       0\n",
       "content_duration                                                           43\n",
       "published_timestamp                                      2015-11-02T21:13:27Z\n",
       "subject                                                       Web Development\n",
       "per_course_total_revenue                                             24316800\n",
       "Name: 3230, dtype: object"
      ]
     },
     "execution_count": 15,
     "metadata": {},
     "output_type": "execute_result"
    }
   ],
   "source": [
    "##for subject\n",
    "##Which subject got highest revenue?\n",
    "df.loc[df['per_course_total_revenue'].idxmax()]\n",
    "##we see that webdevelopment got highest revenue at about rupees 24316800/-"
   ]
  },
  {
   "cell_type": "code",
   "execution_count": 16,
   "metadata": {},
   "outputs": [],
   "source": [
    "##See all column's unique values\n",
    "def unique_value(df):\n",
    "    for column in df:\n",
    "        print(f'{column}:{df[column].unique()}')\n",
    "\n",
    "##unique_value(df)        "
   ]
  },
  {
   "cell_type": "code",
   "execution_count": 17,
   "metadata": {},
   "outputs": [
    {
     "data": {
      "text/plain": [
       "Web Development        1200\n",
       "Business Finance       1195\n",
       "Musical Instruments     680\n",
       "Graphic Design          603\n",
       "Name: subject, dtype: int64"
      ]
     },
     "execution_count": 17,
     "metadata": {},
     "output_type": "execute_result"
    }
   ],
   "source": [
    "## All subjects name and their total courses counts\n",
    "df.subject.value_counts()"
   ]
  },
  {
   "cell_type": "markdown",
   "metadata": {},
   "source": [
    "**Rvenue differences among all subjects with the help of pie chart**"
   ]
  },
  {
   "cell_type": "code",
   "execution_count": 18,
   "metadata": {},
   "outputs": [],
   "source": [
    "web=df[df['subject']==\"Web Development\"]\n",
    "web_max=web.loc[web['per_course_total_revenue'].idxmax()]\n",
    "\n",
    "Business_fin=df[df['subject']==\"Business Finance\"]\n",
    "Business_fin_max=Business_fin.loc[Business_fin['per_course_total_revenue'].idxmax()]\n",
    "\n",
    "Musical_Instruments=df[df['subject']==\"Musical Instruments\"]\n",
    "Musical_Instruments_max=Musical_Instruments.loc[Musical_Instruments['per_course_total_revenue'].idxmax()]\n",
    "\n",
    "Graphic_Design=df[df['subject']==\"Graphic Design\"]\n",
    "Graphic_Design_max=Graphic_Design.loc[Graphic_Design['per_course_total_revenue'].idxmax()]\n",
    "\n",
    "##concatination of all this dataframes\n",
    "revenue_dif=pd.concat([web_max,Business_fin_max,Musical_Instruments_max,Graphic_Design_max],axis=1)\n",
    "revenue_dif=revenue_dif.T\n"
   ]
  },
  {
   "cell_type": "code",
   "execution_count": 19,
   "metadata": {},
   "outputs": [
    {
     "data": {
      "text/html": [
       "<div>\n",
       "<style scoped>\n",
       "    .dataframe tbody tr th:only-of-type {\n",
       "        vertical-align: middle;\n",
       "    }\n",
       "\n",
       "    .dataframe tbody tr th {\n",
       "        vertical-align: top;\n",
       "    }\n",
       "\n",
       "    .dataframe thead th {\n",
       "        text-align: right;\n",
       "    }\n",
       "</style>\n",
       "<table border=\"1\" class=\"dataframe\">\n",
       "  <thead>\n",
       "    <tr style=\"text-align: right;\">\n",
       "      <th></th>\n",
       "      <th>course_id</th>\n",
       "      <th>course_title</th>\n",
       "      <th>url</th>\n",
       "      <th>is_paid</th>\n",
       "      <th>price</th>\n",
       "      <th>num_subscribers</th>\n",
       "      <th>num_reviews</th>\n",
       "      <th>num_lectures</th>\n",
       "      <th>level</th>\n",
       "      <th>content_duration</th>\n",
       "      <th>published_timestamp</th>\n",
       "      <th>subject</th>\n",
       "      <th>per_course_total_revenue</th>\n",
       "    </tr>\n",
       "  </thead>\n",
       "  <tbody>\n",
       "    <tr>\n",
       "      <th>3230</th>\n",
       "      <td>625204</td>\n",
       "      <td>The Web Developer Bootcamp</td>\n",
       "      <td>https://www.udemy.com/the-web-developer-bootcamp/</td>\n",
       "      <td>1</td>\n",
       "      <td>200</td>\n",
       "      <td>121584</td>\n",
       "      <td>27445</td>\n",
       "      <td>342</td>\n",
       "      <td>0</td>\n",
       "      <td>43</td>\n",
       "      <td>2015-11-02T21:13:27Z</td>\n",
       "      <td>Web Development</td>\n",
       "      <td>24316800</td>\n",
       "    </tr>\n",
       "    <tr>\n",
       "      <th>1979</th>\n",
       "      <td>238934</td>\n",
       "      <td>Pianoforall - Incredible New Way To Learn Pian...</td>\n",
       "      <td>https://www.udemy.com/pianoforall-incredible-n...</td>\n",
       "      <td>1</td>\n",
       "      <td>200</td>\n",
       "      <td>75499</td>\n",
       "      <td>7676</td>\n",
       "      <td>362</td>\n",
       "      <td>0</td>\n",
       "      <td>30</td>\n",
       "      <td>2014-08-07T06:27:51Z</td>\n",
       "      <td>Musical Instruments</td>\n",
       "      <td>15099800</td>\n",
       "    </tr>\n",
       "    <tr>\n",
       "      <th>1213</th>\n",
       "      <td>820194</td>\n",
       "      <td>Photoshop for Entrepreneurs - Design 11 Practi...</td>\n",
       "      <td>https://www.udemy.com/photoshop-for-entreprene...</td>\n",
       "      <td>1</td>\n",
       "      <td>200</td>\n",
       "      <td>36288</td>\n",
       "      <td>737</td>\n",
       "      <td>63</td>\n",
       "      <td>0</td>\n",
       "      <td>5</td>\n",
       "      <td>2016-06-09T01:57:03Z</td>\n",
       "      <td>Graphic Design</td>\n",
       "      <td>7257600</td>\n",
       "    </tr>\n",
       "    <tr>\n",
       "      <th>40</th>\n",
       "      <td>648826</td>\n",
       "      <td>The Complete Financial Analyst Course 2017</td>\n",
       "      <td>https://www.udemy.com/the-complete-financial-a...</td>\n",
       "      <td>1</td>\n",
       "      <td>195</td>\n",
       "      <td>24481</td>\n",
       "      <td>2347</td>\n",
       "      <td>174</td>\n",
       "      <td>0</td>\n",
       "      <td>10</td>\n",
       "      <td>2016-01-21T01:38:48Z</td>\n",
       "      <td>Business Finance</td>\n",
       "      <td>4773795</td>\n",
       "    </tr>\n",
       "  </tbody>\n",
       "</table>\n",
       "</div>"
      ],
      "text/plain": [
       "     course_id                                       course_title  \\\n",
       "3230    625204                         The Web Developer Bootcamp   \n",
       "1979    238934  Pianoforall - Incredible New Way To Learn Pian...   \n",
       "1213    820194  Photoshop for Entrepreneurs - Design 11 Practi...   \n",
       "40      648826         The Complete Financial Analyst Course 2017   \n",
       "\n",
       "                                                    url is_paid price  \\\n",
       "3230  https://www.udemy.com/the-web-developer-bootcamp/       1   200   \n",
       "1979  https://www.udemy.com/pianoforall-incredible-n...       1   200   \n",
       "1213  https://www.udemy.com/photoshop-for-entreprene...       1   200   \n",
       "40    https://www.udemy.com/the-complete-financial-a...       1   195   \n",
       "\n",
       "     num_subscribers num_reviews num_lectures level content_duration  \\\n",
       "3230          121584       27445          342     0               43   \n",
       "1979           75499        7676          362     0               30   \n",
       "1213           36288         737           63     0                5   \n",
       "40             24481        2347          174     0               10   \n",
       "\n",
       "       published_timestamp              subject per_course_total_revenue  \n",
       "3230  2015-11-02T21:13:27Z      Web Development                 24316800  \n",
       "1979  2014-08-07T06:27:51Z  Musical Instruments                 15099800  \n",
       "1213  2016-06-09T01:57:03Z       Graphic Design                  7257600  \n",
       "40    2016-01-21T01:38:48Z     Business Finance                  4773795  "
      ]
     },
     "execution_count": 19,
     "metadata": {},
     "output_type": "execute_result"
    }
   ],
   "source": [
    "##Showing the values from high to low\n",
    "revenue_dif=revenue_dif.sort_values(by=['per_course_total_revenue'],ascending=False)\n",
    "revenue_dif.head()"
   ]
  },
  {
   "cell_type": "code",
   "execution_count": 20,
   "metadata": {},
   "outputs": [
    {
     "data": {
      "image/png": "[encoded data removed]",
      "text/plain": [
       "<Figure size 432x288 with 1 Axes>"
      ]
     },
     "metadata": {},
     "output_type": "display_data"
    }
   ],
   "source": [
    "##  plotting pie chart  acoording to max \n",
    "suject=['Web Development','Musical Instruments','Graphic Design','Business Finance']\n",
    "exp=[0.1,0,0,0]\n",
    "plt.pie(revenue_dif.per_course_total_revenue,labels=suject,autopct='%2.1f%%',explode=exp)\n",
    "plt.show()"
   ]
  },
  {
   "cell_type": "code",
   "execution_count": 21,
   "metadata": {},
   "outputs": [],
   "source": [
    "w,b,m,g=df.subject.value_counts()"
   ]
  },
  {
   "cell_type": "code",
   "execution_count": 22,
   "metadata": {},
   "outputs": [
    {
     "data": {
      "text/plain": [
       "Web Development        1200\n",
       "Business Finance       1195\n",
       "Musical Instruments     680\n",
       "Graphic Design          603\n",
       "Name: subject, dtype: int64"
      ]
     },
     "execution_count": 22,
     "metadata": {},
     "output_type": "execute_result"
    }
   ],
   "source": [
    "df.subject.value_counts()"
   ]
  },
  {
   "cell_type": "code",
   "execution_count": 23,
   "metadata": {},
   "outputs": [
    {
     "data": {
      "text/plain": [
       "dtype('int64')"
      ]
     },
     "execution_count": 23,
     "metadata": {},
     "output_type": "execute_result"
    }
   ],
   "source": [
    "df['per_course_total_revenue'].dtypes"
   ]
  },
  {
   "cell_type": "code",
   "execution_count": 24,
   "metadata": {},
   "outputs": [
    {
     "data": {
      "text/html": [
       "<div>\n",
       "<style scoped>\n",
       "    .dataframe tbody tr th:only-of-type {\n",
       "        vertical-align: middle;\n",
       "    }\n",
       "\n",
       "    .dataframe tbody tr th {\n",
       "        vertical-align: top;\n",
       "    }\n",
       "\n",
       "    .dataframe thead th {\n",
       "        text-align: right;\n",
       "    }\n",
       "</style>\n",
       "<table border=\"1\" class=\"dataframe\">\n",
       "  <thead>\n",
       "    <tr style=\"text-align: right;\">\n",
       "      <th></th>\n",
       "      <th>Avg_revenue_per_subject</th>\n",
       "      <th>subject</th>\n",
       "    </tr>\n",
       "  </thead>\n",
       "  <tbody>\n",
       "    <tr>\n",
       "      <th>0</th>\n",
       "      <td>525703.145833</td>\n",
       "      <td>Web Development</td>\n",
       "    </tr>\n",
       "    <tr>\n",
       "      <th>1</th>\n",
       "      <td>1195.000000</td>\n",
       "      <td>Business Finance</td>\n",
       "    </tr>\n",
       "    <tr>\n",
       "      <th>2</th>\n",
       "      <td>78469.198529</td>\n",
       "      <td>Musical Instruments</td>\n",
       "    </tr>\n",
       "    <tr>\n",
       "      <th>3</th>\n",
       "      <td>127666.948590</td>\n",
       "      <td>Graphic Design</td>\n",
       "    </tr>\n",
       "  </tbody>\n",
       "</table>\n",
       "</div>"
      ],
      "text/plain": [
       "   Avg_revenue_per_subject              subject\n",
       "0            525703.145833      Web Development\n",
       "1              1195.000000     Business Finance\n",
       "2             78469.198529  Musical Instruments\n",
       "3            127666.948590       Graphic Design"
      ]
     },
     "execution_count": 24,
     "metadata": {},
     "output_type": "execute_result"
    }
   ],
   "source": [
    "## For Average\n",
    "web=df[df['subject']=='Web Development']['per_course_total_revenue'].sum()\n",
    "web=web/w\n",
    "bus=df[df['subject']=='Business Finance']['per_course_total_revenue'].sum()\n",
    "bus=b\n",
    "mus=df[df['subject']=='Musical Instruments']['per_course_total_revenue'].sum()\n",
    "mus=mus/m\n",
    "grap=df[df['subject']=='Graphic Design']['per_course_total_revenue'].sum()\n",
    "grap=grap/g\n",
    "data=[web,bus,mus,grap]\n",
    "subject=['Web Development','Business Finance','Musical Instruments','Graphic Design']\n",
    "index=[0,1,2,3]\n",
    "q1=pd.DataFrame(data,index)\n",
    "headers = [\"Avg_revenue_per_subject\"]\n",
    "q1.columns = headers\n",
    "q1['subject']=subject\n",
    "\n",
    "q1.head()"
   ]
  },
  {
   "cell_type": "code",
   "execution_count": 25,
   "metadata": {},
   "outputs": [
    {
     "data": {
      "image/png": "[encoded data removed]",
      "text/plain": [
       "<Figure size 432x288 with 1 Axes>"
      ]
     },
     "metadata": {},
     "output_type": "display_data"
    }
   ],
   "source": [
    "##  plotting pie chart  acoording to Average\n",
    "suject1=['Web Development','Business Finance','Musical Instruments','Graphic Design']\n",
    "exp=[0,0.2,0,0]\n",
    "plt.pie(q1.Avg_revenue_per_subject\t,labels=suject1,autopct='%2.1f%%',explode=exp)\n",
    "plt.show()"
   ]
  },
  {
   "cell_type": "markdown",
   "metadata": {},
   "source": [
    "**Which course is popular according to reviews and create a graph of that distribution**"
   ]
  },
  {
   "cell_type": "code",
   "execution_count": 26,
   "metadata": {},
   "outputs": [
    {
     "data": {
      "text/plain": [
       "course_id                                                              625204\n",
       "course_title                                       The Web Developer Bootcamp\n",
       "url                         https://www.udemy.com/the-web-developer-bootcamp/\n",
       "is_paid                                                                     1\n",
       "price                                                                     200\n",
       "num_subscribers                                                        121584\n",
       "num_reviews                                                             27445\n",
       "num_lectures                                                              342\n",
       "level                                                                       0\n",
       "content_duration                                                           43\n",
       "published_timestamp                                      2015-11-02T21:13:27Z\n",
       "subject                                                       Web Development\n",
       "per_course_total_revenue                                             24316800\n",
       "Name: 3230, dtype: object"
      ]
     },
     "execution_count": 26,
     "metadata": {},
     "output_type": "execute_result"
    }
   ],
   "source": [
    "## Highest rating course\n",
    "df.loc[df['num_reviews'].idxmax()]"
   ]
  },
  {
   "cell_type": "code",
   "execution_count": 27,
   "metadata": {},
   "outputs": [],
   "source": [
    "## for counting max\n",
    "web=df[df['subject']==\"Web Development\"]\n",
    "web_review_max=web.loc[web['num_reviews'].idxmax()]\n",
    "\n",
    "Business_fin=df[df['subject']==\"Business Finance\"]\n",
    "Business_review_fin_max=Business_fin.loc[Business_fin['num_reviews'].idxmax()]\n",
    "\n",
    "Musical_Instruments=df[df['subject']==\"Musical Instruments\"]\n",
    "Musical_review_Instruments_max=Musical_Instruments.loc[Musical_Instruments['num_reviews'].idxmax()]\n",
    "\n",
    "Graphic_Design=df[df['subject']==\"Graphic Design\"]\n",
    "Graphic_review_Design_max=Graphic_Design.loc[Graphic_Design['num_reviews'].idxmax()]\n",
    "\n",
    "##concatination of all this dataframes\n",
    "review_df=pd.concat([web_review_max,Business_review_fin_max,Musical_review_Instruments_max,Graphic_review_Design_max],axis=1)\n",
    "review_df=review_df.T"
   ]
  },
  {
   "cell_type": "code",
   "execution_count": 28,
   "metadata": {},
   "outputs": [
    {
     "data": {
      "image/png": "[encoded data removed]",
      "text/plain": [
       "<Figure size 432x288 with 1 Axes>"
      ]
     },
     "metadata": {},
     "output_type": "display_data"
    }
   ],
   "source": [
    "##  plotting pie chart according to max\n",
    "suject=['Web Development','Musical Instruments','Graphic Design','Business Finance']\n",
    "exp=[0.1,0,0,0]\n",
    "plt.pie(review_df.num_reviews,labels=suject,autopct='%2.1f%%',explode=exp)\n",
    "plt.show()"
   ]
  },
  {
   "cell_type": "code",
   "execution_count": 29,
   "metadata": {},
   "outputs": [
    {
     "data": {
      "text/html": [
       "<div>\n",
       "<style scoped>\n",
       "    .dataframe tbody tr th:only-of-type {\n",
       "        vertical-align: middle;\n",
       "    }\n",
       "\n",
       "    .dataframe tbody tr th {\n",
       "        vertical-align: top;\n",
       "    }\n",
       "\n",
       "    .dataframe thead th {\n",
       "        text-align: right;\n",
       "    }\n",
       "</style>\n",
       "<table border=\"1\" class=\"dataframe\">\n",
       "  <thead>\n",
       "    <tr style=\"text-align: right;\">\n",
       "      <th></th>\n",
       "      <th>Avg_review_per_subject</th>\n",
       "      <th>subject</th>\n",
       "    </tr>\n",
       "  </thead>\n",
       "  <tbody>\n",
       "    <tr>\n",
       "      <th>0</th>\n",
       "      <td>358.354167</td>\n",
       "      <td>Web Development</td>\n",
       "    </tr>\n",
       "    <tr>\n",
       "      <th>1</th>\n",
       "      <td>1195.000000</td>\n",
       "      <td>Business Finance</td>\n",
       "    </tr>\n",
       "    <tr>\n",
       "      <th>2</th>\n",
       "      <td>46.652941</td>\n",
       "      <td>Musical Instruments</td>\n",
       "    </tr>\n",
       "    <tr>\n",
       "      <th>3</th>\n",
       "      <td>61.475954</td>\n",
       "      <td>Graphic Design</td>\n",
       "    </tr>\n",
       "  </tbody>\n",
       "</table>\n",
       "</div>"
      ],
      "text/plain": [
       "   Avg_review_per_subject              subject\n",
       "0              358.354167      Web Development\n",
       "1             1195.000000     Business Finance\n",
       "2               46.652941  Musical Instruments\n",
       "3               61.475954       Graphic Design"
      ]
     },
     "execution_count": 29,
     "metadata": {},
     "output_type": "execute_result"
    }
   ],
   "source": [
    "## For Average\n",
    "web=df[df['subject']=='Web Development']['num_reviews'].sum()\n",
    "web=web/w\n",
    "bus=df[df['subject']=='Business Finance']['num_reviews'].sum()\n",
    "bus=b\n",
    "mus=df[df['subject']=='Musical Instruments']['num_reviews'].sum()\n",
    "mus=mus/m\n",
    "grap=df[df['subject']=='Graphic Design']['num_reviews'].sum()\n",
    "grap=grap/g\n",
    "data=[web,bus,mus,grap]\n",
    "subject=['Web Development','Business Finance','Musical Instruments','Graphic Design']\n",
    "index=[0,1,2,3]\n",
    "q2=pd.DataFrame(data,index)\n",
    "headers = [\"Avg_review_per_subject\"]\n",
    "q2.columns = headers\n",
    "q2['subject']=subject\n",
    "\n",
    "q2.head()"
   ]
  },
  {
   "cell_type": "code",
   "execution_count": 30,
   "metadata": {},
   "outputs": [
    {
     "data": {
      "image/png": "[encoded data removed]",
      "text/plain": [
       "<Figure size 432x288 with 1 Axes>"
      ]
     },
     "metadata": {},
     "output_type": "display_data"
    }
   ],
   "source": [
    "##  plotting pie chart  acoording to Average\n",
    "suject1=['Web Development','Business Finance','Musical Instruments','Graphic Design']\n",
    "exp=[0,0.1,0,0]\n",
    "plt.pie(q2.Avg_review_per_subject,labels=suject1,autopct='%2.1f%%',explode=exp)\n",
    "plt.show()"
   ]
  },
  {
   "cell_type": "markdown",
   "metadata": {},
   "source": [
    "**Which course is popular according to subscribers and create a graph of that distribution**"
   ]
  },
  {
   "cell_type": "code",
   "execution_count": 31,
   "metadata": {},
   "outputs": [],
   "source": [
    "web=df[df['subject']==\"Web Development\"]\n",
    "web_sub_max=web.loc[web['num_subscribers'].idxmax()]\n",
    "\n",
    "Business_fin=df[df['subject']==\"Business Finance\"]\n",
    "Business_sub_fin_max=Business_fin.loc[Business_fin['num_subscribers'].idxmax()]\n",
    "\n",
    "Musical_Instruments=df[df['subject']==\"Musical Instruments\"]\n",
    "Musical_sub_Instruments_max=Musical_Instruments.loc[Musical_Instruments['num_subscribers'].idxmax()]\n",
    "\n",
    "Graphic_Design=df[df['subject']==\"Graphic Design\"]\n",
    "Graphic_sub_Design_max=Graphic_Design.loc[Graphic_Design['num_subscribers'].idxmax()]\n",
    "\n",
    "##concatination of all this dataframes\n",
    "review_sub=pd.concat([web_sub_max,Business_sub_fin_max,Musical_sub_Instruments_max,Graphic_sub_Design_max],axis=1)\n",
    "review_sub=review_sub.T"
   ]
  },
  {
   "cell_type": "code",
   "execution_count": 32,
   "metadata": {},
   "outputs": [
    {
     "data": {
      "image/png": "[encoded data removed]",
      "text/plain": [
       "<Figure size 432x288 with 1 Axes>"
      ]
     },
     "metadata": {},
     "output_type": "display_data"
    }
   ],
   "source": [
    "##  plotting pie chart  acoording to max \n",
    "suject=['Web Development','Musical Instruments','Graphic Design','Business Finance']\n",
    "exp=[0.1,0,0,0]\n",
    "plt.pie(review_sub.num_subscribers,labels=suject,autopct='%2.1f%%',explode=exp)\n",
    "plt.show()"
   ]
  },
  {
   "cell_type": "code",
   "execution_count": 33,
   "metadata": {},
   "outputs": [
    {
     "data": {
      "text/html": [
       "<div>\n",
       "<style scoped>\n",
       "    .dataframe tbody tr th:only-of-type {\n",
       "        vertical-align: middle;\n",
       "    }\n",
       "\n",
       "    .dataframe tbody tr th {\n",
       "        vertical-align: top;\n",
       "    }\n",
       "\n",
       "    .dataframe thead th {\n",
       "        text-align: right;\n",
       "    }\n",
       "</style>\n",
       "<table border=\"1\" class=\"dataframe\">\n",
       "  <thead>\n",
       "    <tr style=\"text-align: right;\">\n",
       "      <th></th>\n",
       "      <th>Avg_subscribers_per_subject</th>\n",
       "      <th>subject</th>\n",
       "    </tr>\n",
       "  </thead>\n",
       "  <tbody>\n",
       "    <tr>\n",
       "      <th>0</th>\n",
       "      <td>6650.476667</td>\n",
       "      <td>Web Development</td>\n",
       "    </tr>\n",
       "    <tr>\n",
       "      <th>1</th>\n",
       "      <td>1195.000000</td>\n",
       "      <td>Business Finance</td>\n",
       "    </tr>\n",
       "    <tr>\n",
       "      <th>2</th>\n",
       "      <td>1245.130882</td>\n",
       "      <td>Musical Instruments</td>\n",
       "    </tr>\n",
       "    <tr>\n",
       "      <th>3</th>\n",
       "      <td>1763.097844</td>\n",
       "      <td>Graphic Design</td>\n",
       "    </tr>\n",
       "  </tbody>\n",
       "</table>\n",
       "</div>"
      ],
      "text/plain": [
       "   Avg_subscribers_per_subject              subject\n",
       "0                  6650.476667      Web Development\n",
       "1                  1195.000000     Business Finance\n",
       "2                  1245.130882  Musical Instruments\n",
       "3                  1763.097844       Graphic Design"
      ]
     },
     "execution_count": 33,
     "metadata": {},
     "output_type": "execute_result"
    }
   ],
   "source": [
    "## For Average\n",
    "web=df[df['subject']=='Web Development']['num_subscribers'].sum()\n",
    "web=web/w\n",
    "bus=df[df['subject']=='Business Finance']['num_subscribers'].sum()\n",
    "bus=b\n",
    "mus=df[df['subject']=='Musical Instruments']['num_subscribers'].sum()\n",
    "mus=mus/m\n",
    "grap=df[df['subject']=='Graphic Design']['num_subscribers'].sum()\n",
    "grap=grap/g\n",
    "data=[web,bus,mus,grap]\n",
    "subject=['Web Development','Business Finance','Musical Instruments','Graphic Design']\n",
    "index=[0,1,2,3]\n",
    "q3=pd.DataFrame(data,index)\n",
    "headers = [\"Avg_subscribers_per_subject\"]\n",
    "q3.columns = headers\n",
    "q3['subject']=subject\n",
    "\n",
    "q3.head()"
   ]
  },
  {
   "cell_type": "code",
   "execution_count": 34,
   "metadata": {},
   "outputs": [
    {
     "data": {
      "image/png": "[encoded data removed]",
      "text/plain": [
       "<Figure size 432x288 with 1 Axes>"
      ]
     },
     "metadata": {},
     "output_type": "display_data"
    }
   ],
   "source": [
    "##  plotting pie chart  acoording to Average\n",
    "suject1=['Web Development','Business Finance','Musical Instruments','Graphic Design']\n",
    "exp=[0,0.1,0,0]\n",
    "plt.pie(q3.Avg_subscribers_per_subject,labels=suject1,autopct='%2.1f%%',explode=exp)\n",
    "plt.show()"
   ]
  },
  {
   "cell_type": "markdown",
   "metadata": {},
   "source": [
    "**show the relation between course duration and subscribers**"
   ]
  },
  {
   "cell_type": "code",
   "execution_count": 35,
   "metadata": {},
   "outputs": [
    {
     "data": {
      "text/html": [
       "<div>\n",
       "<style scoped>\n",
       "    .dataframe tbody tr th:only-of-type {\n",
       "        vertical-align: middle;\n",
       "    }\n",
       "\n",
       "    .dataframe tbody tr th {\n",
       "        vertical-align: top;\n",
       "    }\n",
       "\n",
       "    .dataframe thead th {\n",
       "        text-align: right;\n",
       "    }\n",
       "</style>\n",
       "<table border=\"1\" class=\"dataframe\">\n",
       "  <thead>\n",
       "    <tr style=\"text-align: right;\">\n",
       "      <th></th>\n",
       "      <th>course_id</th>\n",
       "      <th>is_paid</th>\n",
       "      <th>price</th>\n",
       "      <th>num_subscribers</th>\n",
       "      <th>num_reviews</th>\n",
       "      <th>num_lectures</th>\n",
       "      <th>level</th>\n",
       "      <th>content_duration</th>\n",
       "      <th>per_course_total_revenue</th>\n",
       "    </tr>\n",
       "  </thead>\n",
       "  <tbody>\n",
       "    <tr>\n",
       "      <th>course_id</th>\n",
       "      <td>1.000000</td>\n",
       "      <td>-0.013679</td>\n",
       "      <td>0.142319</td>\n",
       "      <td>-0.167856</td>\n",
       "      <td>-0.058550</td>\n",
       "      <td>-0.024646</td>\n",
       "      <td>0.078451</td>\n",
       "      <td>-0.057223</td>\n",
       "      <td>-0.053973</td>\n",
       "    </tr>\n",
       "    <tr>\n",
       "      <th>is_paid</th>\n",
       "      <td>-0.013679</td>\n",
       "      <td>1.000000</td>\n",
       "      <td>0.328513</td>\n",
       "      <td>-0.266159</td>\n",
       "      <td>-0.087471</td>\n",
       "      <td>0.112574</td>\n",
       "      <td>-0.033156</td>\n",
       "      <td>0.094417</td>\n",
       "      <td>0.072902</td>\n",
       "    </tr>\n",
       "    <tr>\n",
       "      <th>price</th>\n",
       "      <td>0.142319</td>\n",
       "      <td>0.328513</td>\n",
       "      <td>1.000000</td>\n",
       "      <td>0.050769</td>\n",
       "      <td>0.113696</td>\n",
       "      <td>0.330160</td>\n",
       "      <td>-0.073219</td>\n",
       "      <td>0.293450</td>\n",
       "      <td>0.346617</td>\n",
       "    </tr>\n",
       "    <tr>\n",
       "      <th>num_subscribers</th>\n",
       "      <td>-0.167856</td>\n",
       "      <td>-0.266159</td>\n",
       "      <td>0.050769</td>\n",
       "      <td>1.000000</td>\n",
       "      <td>0.649946</td>\n",
       "      <td>0.157746</td>\n",
       "      <td>-0.062092</td>\n",
       "      <td>0.161839</td>\n",
       "      <td>0.557175</td>\n",
       "    </tr>\n",
       "    <tr>\n",
       "      <th>num_reviews</th>\n",
       "      <td>-0.058550</td>\n",
       "      <td>-0.087471</td>\n",
       "      <td>0.113696</td>\n",
       "      <td>0.649946</td>\n",
       "      <td>1.000000</td>\n",
       "      <td>0.243029</td>\n",
       "      <td>-0.055649</td>\n",
       "      <td>0.228889</td>\n",
       "      <td>0.769948</td>\n",
       "    </tr>\n",
       "    <tr>\n",
       "      <th>num_lectures</th>\n",
       "      <td>-0.024646</td>\n",
       "      <td>0.112574</td>\n",
       "      <td>0.330160</td>\n",
       "      <td>0.157746</td>\n",
       "      <td>0.243029</td>\n",
       "      <td>1.000000</td>\n",
       "      <td>-0.102291</td>\n",
       "      <td>0.801647</td>\n",
       "      <td>0.321816</td>\n",
       "    </tr>\n",
       "    <tr>\n",
       "      <th>level</th>\n",
       "      <td>0.078451</td>\n",
       "      <td>-0.033156</td>\n",
       "      <td>-0.073219</td>\n",
       "      <td>-0.062092</td>\n",
       "      <td>-0.055649</td>\n",
       "      <td>-0.102291</td>\n",
       "      <td>1.000000</td>\n",
       "      <td>-0.107274</td>\n",
       "      <td>-0.077903</td>\n",
       "    </tr>\n",
       "    <tr>\n",
       "      <th>content_duration</th>\n",
       "      <td>-0.057223</td>\n",
       "      <td>0.094417</td>\n",
       "      <td>0.293450</td>\n",
       "      <td>0.161839</td>\n",
       "      <td>0.228889</td>\n",
       "      <td>0.801647</td>\n",
       "      <td>-0.107274</td>\n",
       "      <td>1.000000</td>\n",
       "      <td>0.296736</td>\n",
       "    </tr>\n",
       "    <tr>\n",
       "      <th>per_course_total_revenue</th>\n",
       "      <td>-0.053973</td>\n",
       "      <td>0.072902</td>\n",
       "      <td>0.346617</td>\n",
       "      <td>0.557175</td>\n",
       "      <td>0.769948</td>\n",
       "      <td>0.321816</td>\n",
       "      <td>-0.077903</td>\n",
       "      <td>0.296736</td>\n",
       "      <td>1.000000</td>\n",
       "    </tr>\n",
       "  </tbody>\n",
       "</table>\n",
       "</div>"
      ],
      "text/plain": [
       "                          course_id   is_paid     price  num_subscribers  \\\n",
       "course_id                  1.000000 -0.013679  0.142319        -0.167856   \n",
       "is_paid                   -0.013679  1.000000  0.328513        -0.266159   \n",
       "price                      0.142319  0.328513  1.000000         0.050769   \n",
       "num_subscribers           -0.167856 -0.266159  0.050769         1.000000   \n",
       "num_reviews               -0.058550 -0.087471  0.113696         0.649946   \n",
       "num_lectures              -0.024646  0.112574  0.330160         0.157746   \n",
       "level                      0.078451 -0.033156 -0.073219        -0.062092   \n",
       "content_duration          -0.057223  0.094417  0.293450         0.161839   \n",
       "per_course_total_revenue  -0.053973  0.072902  0.346617         0.557175   \n",
       "\n",
       "                          num_reviews  num_lectures     level  \\\n",
       "course_id                   -0.058550     -0.024646  0.078451   \n",
       "is_paid                     -0.087471      0.112574 -0.033156   \n",
       "price                        0.113696      0.330160 -0.073219   \n",
       "num_subscribers              0.649946      0.157746 -0.062092   \n",
       "num_reviews                  1.000000      0.243029 -0.055649   \n",
       "num_lectures                 0.243029      1.000000 -0.102291   \n",
       "level                       -0.055649     -0.102291  1.000000   \n",
       "content_duration             0.228889      0.801647 -0.107274   \n",
       "per_course_total_revenue     0.769948      0.321816 -0.077903   \n",
       "\n",
       "                          content_duration  per_course_total_revenue  \n",
       "course_id                        -0.057223                 -0.053973  \n",
       "is_paid                           0.094417                  0.072902  \n",
       "price                             0.293450                  0.346617  \n",
       "num_subscribers                   0.161839                  0.557175  \n",
       "num_reviews                       0.228889                  0.769948  \n",
       "num_lectures                      0.801647                  0.321816  \n",
       "level                            -0.107274                 -0.077903  \n",
       "content_duration                  1.000000                  0.296736  \n",
       "per_course_total_revenue          0.296736                  1.000000  "
      ]
     },
     "execution_count": 35,
     "metadata": {},
     "output_type": "execute_result"
    }
   ],
   "source": [
    "df.corr()"
   ]
  },
  {
   "cell_type": "code",
   "execution_count": 36,
   "metadata": {},
   "outputs": [
    {
     "data": {
      "image/png": "[encoded data removed]",
      "text/plain": [
       "<Figure size 432x288 with 1 Axes>"
      ]
     },
     "metadata": {
      "needs_background": "light"
     },
     "output_type": "display_data"
    }
   ],
   "source": [
    "##Correlation coefficient values less than +0.8 or greater than -0.8 are not considered significant.\n",
    "##scatter plot to show the corelation\n",
    "plt.scatter(df['num_subscribers'], df['content_duration'])\n",
    "plt.show()"
   ]
  },
  {
   "cell_type": "code",
   "execution_count": 37,
   "metadata": {},
   "outputs": [
    {
     "data": {
      "text/plain": [
       "LinregressResult(slope=0.00010308643347981602, intercept=3.764934092352409, rvalue=0.16183867741001334, pvalue=5.2486796944911873e-23, stderr=1.0367359669694272e-05)"
      ]
     },
     "execution_count": 37,
     "metadata": {},
     "output_type": "execute_result"
    }
   ],
   "source": [
    "from scipy.stats import linregress\n",
    "linregress(df['num_subscribers'], df['content_duration'])\n",
    "## here p alue is 5.2486796944911873e-23 which is less than 0.05 so relation is significant but so we need to \n",
    "## see the r value"
   ]
  },
  {
   "cell_type": "code",
   "execution_count": 38,
   "metadata": {},
   "outputs": [
    {
     "data": {
      "text/plain": [
       "array([[1.        , 0.16183868],\n",
       "       [0.16183868, 1.        ]])"
      ]
     },
     "execution_count": 38,
     "metadata": {},
     "output_type": "execute_result"
    }
   ],
   "source": [
    "## Showing in different way\n",
    "## ρ = population correlation coefficient (unknown)\n",
    "## r = sample correlation coefficient (known; calculated from sample data)\n",
    "\n",
    "np.corrcoef(df['num_subscribers'], df['content_duration'])\n",
    "\n",
    "## Here r value is 0.16183868 which shows a positive corelation not more"
   ]
  },
  {
   "cell_type": "code",
   "execution_count": 39,
   "metadata": {},
   "outputs": [],
   "source": [
    "##some notes\n",
    "\n",
    "##If the p-value is less than the significance level (α = 0.05)\n",
    "## Decision: Reject the null hypothesis.\n",
    "##Conclusion: “There is sufficient evidence to conclude that there is a significant linear relationship between x and y because the correlation coefficient is significantly different from zero.”\n",
    "\n",
    "## If the p-value is NOT less than the significance level (α = 0.05)\n",
    "## Then Decision: DO NOT REJECT the null hypothesis.\n",
    "##Conclusion: “There is insufficient evidence to conclude that there is a significant linear relationship between x and y because the correlation coefficient is NOT significantly different from zero.”\n"
   ]
  },
  {
   "cell_type": "markdown",
   "metadata": {},
   "source": [
    "**which course is popular according to level  and create a graph of that distribution**"
   ]
  },
  {
   "cell_type": "code",
   "execution_count": 40,
   "metadata": {},
   "outputs": [
    {
     "data": {
      "text/html": [
       "<div>\n",
       "<style scoped>\n",
       "    .dataframe tbody tr th:only-of-type {\n",
       "        vertical-align: middle;\n",
       "    }\n",
       "\n",
       "    .dataframe tbody tr th {\n",
       "        vertical-align: top;\n",
       "    }\n",
       "\n",
       "    .dataframe thead th {\n",
       "        text-align: right;\n",
       "    }\n",
       "</style>\n",
       "<table border=\"1\" class=\"dataframe\">\n",
       "  <thead>\n",
       "    <tr style=\"text-align: right;\">\n",
       "      <th>subject</th>\n",
       "      <th>Business Finance</th>\n",
       "      <th>Graphic Design</th>\n",
       "      <th>Musical Instruments</th>\n",
       "      <th>Web Development</th>\n",
       "    </tr>\n",
       "    <tr>\n",
       "      <th>level</th>\n",
       "      <th></th>\n",
       "      <th></th>\n",
       "      <th></th>\n",
       "      <th></th>\n",
       "    </tr>\n",
       "  </thead>\n",
       "  <tbody>\n",
       "    <tr>\n",
       "      <th>0</th>\n",
       "      <td>696</td>\n",
       "      <td>298</td>\n",
       "      <td>276</td>\n",
       "      <td>659</td>\n",
       "    </tr>\n",
       "    <tr>\n",
       "      <th>1</th>\n",
       "      <td>340</td>\n",
       "      <td>243</td>\n",
       "      <td>296</td>\n",
       "      <td>391</td>\n",
       "    </tr>\n",
       "    <tr>\n",
       "      <th>2</th>\n",
       "      <td>128</td>\n",
       "      <td>57</td>\n",
       "      <td>101</td>\n",
       "      <td>135</td>\n",
       "    </tr>\n",
       "    <tr>\n",
       "      <th>3</th>\n",
       "      <td>31</td>\n",
       "      <td>5</td>\n",
       "      <td>7</td>\n",
       "      <td>15</td>\n",
       "    </tr>\n",
       "  </tbody>\n",
       "</table>\n",
       "</div>"
      ],
      "text/plain": [
       "subject  Business Finance  Graphic Design  Musical Instruments  \\\n",
       "level                                                            \n",
       "0                     696             298                  276   \n",
       "1                     340             243                  296   \n",
       "2                     128              57                  101   \n",
       "3                      31               5                    7   \n",
       "\n",
       "subject  Web Development  \n",
       "level                     \n",
       "0                    659  \n",
       "1                    391  \n",
       "2                    135  \n",
       "3                     15  "
      ]
     },
     "execution_count": 40,
     "metadata": {},
     "output_type": "execute_result"
    }
   ],
   "source": [
    "pd.crosstab(df.level, df.subject)## it shows no of courses according to level"
   ]
  },
  {
   "cell_type": "code",
   "execution_count": 41,
   "metadata": {},
   "outputs": [
    {
     "data": {
      "text/plain": [
       "0    1929\n",
       "1    1270\n",
       "2     421\n",
       "3      58\n",
       "Name: level, dtype: int64"
      ]
     },
     "execution_count": 41,
     "metadata": {},
     "output_type": "execute_result"
    }
   ],
   "source": [
    "df.level.value_counts()"
   ]
  },
  {
   "cell_type": "code",
   "execution_count": 42,
   "metadata": {},
   "outputs": [],
   "source": [
    "df3=df.level.value_counts()"
   ]
  },
  {
   "cell_type": "code",
   "execution_count": 43,
   "metadata": {},
   "outputs": [
    {
     "data": {
      "image/png": "[encoded data removed]",
      "text/plain": [
       "<Figure size 432x288 with 1 Axes>"
      ]
     },
     "metadata": {},
     "output_type": "display_data"
    }
   ],
   "source": [
    "suject1=['level_zero','level_one','level_two','level_three']\n",
    "exp=[0,0.1,0,0]\n",
    "plt.pie(df3,labels=suject1,autopct='%2.1f%%',explode=exp)\n",
    "plt.show()"
   ]
  },
  {
   "cell_type": "markdown",
   "metadata": {},
   "source": [
    "**Best unpaid course according to subscribers**"
   ]
  },
  {
   "cell_type": "code",
   "execution_count": 44,
   "metadata": {},
   "outputs": [
    {
     "data": {
      "text/plain": [
       "course_id                                                               41295\n",
       "course_title                             Learn HTML5 Programming From Scratch\n",
       "url                         https://www.udemy.com/learn-html5-programming-...\n",
       "is_paid                                                                     0\n",
       "price                                                                       0\n",
       "num_subscribers                                                        268923\n",
       "num_reviews                                                              8629\n",
       "num_lectures                                                               45\n",
       "level                                                                       0\n",
       "content_duration                                                         10.5\n",
       "published_timestamp                                      2013-02-14T07:03:41Z\n",
       "subject                                                       Web Development\n",
       "per_course_total_revenue                                                    0\n",
       "Name: 2827, dtype: object"
      ]
     },
     "execution_count": 44,
     "metadata": {},
     "output_type": "execute_result"
    }
   ],
   "source": [
    "df_unpaid=df[df['is_paid']==0]\n",
    "df.loc[df_unpaid['num_subscribers'].idxmax()]"
   ]
  },
  {
   "cell_type": "code",
   "execution_count": 50,
   "metadata": {},
   "outputs": [
    {
     "data": {
      "text/plain": [
       "course_id                                                              625204\n",
       "course_title                                       The Web Developer Bootcamp\n",
       "url                         https://www.udemy.com/the-web-developer-bootcamp/\n",
       "is_paid                                                                     1\n",
       "price                                                                     200\n",
       "num_subscribers                                                        121584\n",
       "num_reviews                                                             27445\n",
       "num_lectures                                                              342\n",
       "level                                                                       0\n",
       "content_duration                                                           43\n",
       "published_timestamp                                      2015-11-02T21:13:27Z\n",
       "subject                                                       Web Development\n",
       "per_course_total_revenue                                             24316800\n",
       "Name: 3230, dtype: object"
      ]
     },
     "execution_count": 50,
     "metadata": {},
     "output_type": "execute_result"
    }
   ],
   "source": [
    "## Highest paid course according to subscribers\n",
    "paid=df[df['is_paid']==1]\n",
    "paid.loc[paid[paid['subject']=='Web Development']['per_course_total_revenue'].idxmax()]"
   ]
  },
  {
   "cell_type": "code",
   "execution_count": null,
   "metadata": {},
   "outputs": [],
   "source": []
  }
 ],
 "metadata": {
  "kernelspec": {
   "display_name": "Python 3",
   "language": "python",
   "name": "python3"
  },
  "language_info": {
   "codemirror_mode": {
    "name": "ipython",
    "version": 3
   },
   "file_extension": ".py",
   "mimetype": "text/x-python",
   "name": "python",
   "nbconvert_exporter": "python",
   "pygments_lexer": "ipython3",
   "version": "3.8.3"
  }
 },
 "nbformat": 4,
 "nbformat_minor": 4
}
